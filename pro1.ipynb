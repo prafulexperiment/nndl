{
 "cells": [
  {
   "cell_type": "code",
   "execution_count": 2,
   "id": "9c9da86f-8734-4828-a365-ccb5d968f11a",
   "metadata": {},
   "outputs": [
    {
     "name": "stdout",
     "output_type": "stream",
     "text": [
      "Final outputs after training:\n",
      "Input: [0 0], Output: 0, Expected: 0\n",
      "Input: [0 1], Output: 1, Expected: 1\n",
      "Input: [1 0], Output: 1, Expected: 1\n",
      "Input: [1 1], Output: 1, Expected: 1\n"
     ]
    }
   ],
   "source": [
    "import numpy as np\n",
    "\n",
    "x = np.array([[0, 0], [0, 1], [1, 0], [1, 1]]) \n",
    "y = np.array([0, 1, 1, 1])  \n",
    "\n",
    "w1, w2 = 0.2, 0.4\n",
    "bias = 0.1\n",
    "t = 0.1  \n",
    "\n",
    "def sigmoid(z):\n",
    "    return 1 / (1 + np.exp(-z))\n",
    "\n",
    "for epoch in range(6000):\n",
    "    for i in range(4):\n",
    "        ans = x[i][0] * w1 + x[i][1] * w2 + bias\n",
    "        result = sigmoid(ans)\n",
    "        error = y[i] - result\n",
    "        w1 += t * error * x[i][0]\n",
    "        w2 += t * error * x[i][1]\n",
    "        bias += t * error\n",
    "\n",
    "print(\"Final outputs after training:\")\n",
    "for i in range(4):\n",
    "    ans = x[i][0] * w1 + x[i][1] * w2 + bias\n",
    "    result = sigmoid(ans)\n",
    "    output = 1 if result >= 0.5 else 0\n",
    "    print(f\"Input: {x[i]}, Output: {output}, Expected: {y[i]}\")\n"
   ]
  },
  {
   "cell_type": "code",
   "execution_count": null,
   "id": "ceeb3000-ee93-4d87-afa5-6307c36438e0",
   "metadata": {},
   "outputs": [],
   "source": []
  }
 ],
 "metadata": {
  "kernelspec": {
   "display_name": "Python 3 (ipykernel)",
   "language": "python",
   "name": "python3"
  },
  "language_info": {
   "codemirror_mode": {
    "name": "ipython",
    "version": 3
   },
   "file_extension": ".py",
   "mimetype": "text/x-python",
   "name": "python",
   "nbconvert_exporter": "python",
   "pygments_lexer": "ipython3",
   "version": "3.12.1"
  }
 },
 "nbformat": 4,
 "nbformat_minor": 5
}
